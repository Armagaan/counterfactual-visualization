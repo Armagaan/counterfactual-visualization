{
 "cells": [
  {
   "cell_type": "markdown",
   "metadata": {},
   "source": [
    "# Preprocessing: Induce"
   ]
  },
  {
   "cell_type": "code",
   "execution_count": 1,
   "metadata": {},
   "outputs": [],
   "source": [
    "import pickle\n",
    "from pprint import pprint\n",
    "\n",
    "import torch\n",
    "import numpy as np\n",
    "import pandas as pd"
   ]
  },
  {
   "cell_type": "code",
   "execution_count": 16,
   "metadata": {},
   "outputs": [],
   "source": [
    "FILES = [\n",
    "    'syn1_induce_inductive.pkl',\n",
    "    'syn1_induce_transductive.pkl',\n",
    "    'syn4_induce_inductive.pkl',\n",
    "    'syn4_induce_transductive.pkl',\n",
    "    'syn5_induce_inductive.pkl',\n",
    "    'syn5_induce_transductive.pkl',\n",
    "]"
   ]
  },
  {
   "cell_type": "code",
   "execution_count": 67,
   "metadata": {},
   "outputs": [],
   "source": [
    "FILENAME = FILES[5]"
   ]
  },
  {
   "cell_type": "markdown",
   "metadata": {},
   "source": [
    "## Data"
   ]
  },
  {
   "cell_type": "code",
   "execution_count": 68,
   "metadata": {},
   "outputs": [],
   "source": [
    "with open(f\"data/{FILENAME}\", \"rb\") as file:\n",
    "    data = pickle.load(file)"
   ]
  },
  {
   "cell_type": "code",
   "execution_count": 69,
   "metadata": {},
   "outputs": [
    {
     "name": "stdout",
     "output_type": "stream",
     "text": [
      "617\n",
      "[12,\n",
      " tensor([[0., 0., 0., 0., 0., 1., 0., 0., 0., 0., 0., 0., 0., 0.],\n",
      "        [0., 0., 1., 0., 0., 0., 0., 0., 0., 0., 0., 0., 0., 0.],\n",
      "        [0., 1., 0., 1., 1., 0., 0., 0., 0., 0., 1., 0., 0., 0.],\n",
      "        [0., 0., 1., 0., 0., 0., 0., 0., 0., 0., 0., 0., 0., 0.],\n",
      "        [0., 0., 1., 0., 0., 0., 0., 0., 0., 0., 0., 0., 0., 0.],\n",
      "        [1., 0., 0., 0., 0., 0., 1., 0., 1., 0., 0., 0., 0., 0.],\n",
      "        [0., 0., 0., 0., 0., 1., 0., 1., 0., 1., 0., 0., 0., 0.],\n",
      "        [0., 0., 0., 0., 0., 0., 1., 0., 0., 0., 1., 0., 0., 0.],\n",
      "        [0., 0., 0., 0., 0., 1., 0., 0., 0., 1., 0., 1., 0., 0.],\n",
      "        [0., 0., 0., 0., 0., 0., 1., 0., 1., 0., 1., 0., 1., 0.],\n",
      "        [0., 0., 1., 0., 0., 0., 0., 1., 0., 1., 0., 0., 1., 1.],\n",
      "        [0., 0., 0., 0., 0., 0., 0., 0., 1., 0., 0., 0., 1., 0.],\n",
      "        [0., 0., 0., 0., 0., 0., 0., 0., 0., 1., 1., 1., 0., 1.],\n",
      "        [0., 0., 0., 0., 0., 0., 0., 0., 0., 0., 1., 0., 1., 0.]]),\n",
      " tensor([[0., 0., 0., 0., 0., 1., 0., 0., 0., 0., 0., 0., 0., 0.],\n",
      "        [0., 0., 1., 0., 0., 0., 0., 0., 0., 0., 0., 0., 0., 0.],\n",
      "        [0., 1., 0., 1., 1., 0., 0., 0., 0., 0., 1., 0., 0., 0.],\n",
      "        [0., 0., 1., 0., 0., 0., 0., 0., 0., 0., 0., 0., 0., 0.],\n",
      "        [0., 0., 1., 0., 0., 0., 0., 0., 0., 0., 0., 0., 0., 0.],\n",
      "        [1., 0., 0., 0., 0., 0., 1., 0., 1., 0., 0., 0., 0., 0.],\n",
      "        [0., 0., 0., 0., 0., 1., 0., 1., 0., 1., 0., 0., 0., 0.],\n",
      "        [0., 0., 0., 0., 0., 0., 1., 0., 0., 0., 1., 0., 0., 0.],\n",
      "        [0., 0., 0., 0., 0., 1., 0., 0., 0., 1., 0., 1., 0., 0.],\n",
      "        [0., 0., 0., 0., 0., 0., 1., 0., 1., 0., 1., 0., 1., 0.],\n",
      "        [0., 0., 1., 0., 0., 0., 0., 1., 0., 1., 0., 0., 0., 1.],\n",
      "        [0., 0., 0., 0., 0., 0., 0., 0., 1., 0., 0., 0., 1., 0.],\n",
      "        [0., 0., 0., 0., 0., 0., 0., 0., 0., 1., 0., 1., 0., 1.],\n",
      "        [0., 0., 0., 0., 0., 0., 0., 0., 0., 0., 1., 0., 1., 0.]]),\n",
      " [[617, 615, 'add']],\n",
      " 14,\n",
      " {66: 0,\n",
      "  547: 1,\n",
      "  548: 2,\n",
      "  549: 3,\n",
      "  551: 4,\n",
      "  610: 5,\n",
      "  611: 6,\n",
      "  612: 7,\n",
      "  613: 8,\n",
      "  614: 9,\n",
      "  615: 10,\n",
      "  616: 11,\n",
      "  617: 12,\n",
      "  618: 13},\n",
      " 1,\n",
      " 0,\n",
      " tensor([1]),\n",
      " tensor(0.5000, device='cuda:0', requires_grad=True),\n",
      " tensor(-1.3549, device='cuda:0', requires_grad=True),\n",
      " tensor(1.),\n",
      " 'found']\n"
     ]
    }
   ],
   "source": [
    "first_key = list(data.keys())[0]\n",
    "print(first_key)\n",
    "pprint(data[first_key])"
   ]
  },
  {
   "cell_type": "markdown",
   "metadata": {},
   "source": [
    "## Reference:"
   ]
  },
  {
   "cell_type": "markdown",
   "metadata": {},
   "source": [
    "```\n",
    "0. mapped_node_idx\n",
    "1. cf_adj \n",
    "2. sub_adj\n",
    "3. cf\n",
    "4. num_nodes\n",
    "5. node_dict\n",
    "6. y_pred\n",
    "7. y_pred_cf\n",
    "8. label\n",
    "9. loss_total\n",
    "10. loss_pred\n",
    "11. loss_graph_dist\n",
    "12. found\n",
    "```"
   ]
  },
  {
   "cell_type": "markdown",
   "metadata": {},
   "source": [
    "## New dataset"
   ]
  },
  {
   "cell_type": "code",
   "execution_count": 70,
   "metadata": {},
   "outputs": [],
   "source": [
    "new_dataset = dict()\n",
    "for node_id, cf in data.items():\n",
    "    target = int(cf[0])\n",
    "    adj = cf[2].numpy()\n",
    "    cfs = cf[3]\n",
    "    # The source & destination nodes need to be mapped to the subadjacency. \n",
    "    node_dict = cf[5]\n",
    "    mapped_cfs = list()\n",
    "    for cf in cfs:\n",
    "        src, dest, action = cf\n",
    "        mapped_cf = [node_dict[src], node_dict[dest], action]\n",
    "        mapped_cfs.append(mapped_cf)\n",
    "    new_dataset[node_id] = {'target': target, 'adj': adj, 'cfs': mapped_cfs}"
   ]
  },
  {
   "cell_type": "code",
   "execution_count": 71,
   "metadata": {},
   "outputs": [],
   "source": [
    "with open(f\"../data/{FILENAME}\", \"wb\") as file:\n",
    "    pickle.dump(new_dataset, file)"
   ]
  },
  {
   "cell_type": "markdown",
   "metadata": {},
   "source": [
    "## Rough"
   ]
  },
  {
   "cell_type": "code",
   "execution_count": 6,
   "metadata": {},
   "outputs": [
    {
     "data": {
      "text/plain": [
       "{'target': 100,\n",
       " 'adj': tensor([[0., 0., 1.,  ..., 0., 0., 0.],\n",
       "         [0., 0., 1.,  ..., 0., 0., 0.],\n",
       "         [1., 1., 0.,  ..., 0., 0., 0.],\n",
       "         ...,\n",
       "         [0., 0., 0.,  ..., 0., 0., 0.],\n",
       "         [0., 0., 0.,  ..., 0., 0., 0.],\n",
       "         [0., 0., 0.,  ..., 0., 0., 0.]]),\n",
       " 'cfs': [[100, 48, 'add']]}"
      ]
     },
     "execution_count": 6,
     "metadata": {},
     "output_type": "execute_result"
    }
   ],
   "source": [
    "new_dataset[563]"
   ]
  },
  {
   "cell_type": "code",
   "execution_count": null,
   "metadata": {},
   "outputs": [],
   "source": []
  }
 ],
 "metadata": {
  "kernelspec": {
   "display_name": "Python 3.9.12 ('GNNEx')",
   "language": "python",
   "name": "python3"
  },
  "language_info": {
   "codemirror_mode": {
    "name": "ipython",
    "version": 3
   },
   "file_extension": ".py",
   "mimetype": "text/x-python",
   "name": "python",
   "nbconvert_exporter": "python",
   "pygments_lexer": "ipython3",
   "version": "3.9.12"
  },
  "orig_nbformat": 4,
  "vscode": {
   "interpreter": {
    "hash": "105d8bb4a76a1442d8cf35c928fae7818a4dd3cfc700eff9a221d54f70f6f9f3"
   }
  }
 },
 "nbformat": 4,
 "nbformat_minor": 2
}
