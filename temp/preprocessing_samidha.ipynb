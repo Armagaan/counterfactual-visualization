{
 "cells": [
  {
   "cell_type": "markdown",
   "metadata": {},
   "source": [
    "# Preprocessing"
   ]
  },
  {
   "cell_type": "code",
   "execution_count": 1,
   "metadata": {},
   "outputs": [],
   "source": [
    "import pickle\n",
    "\n",
    "import numpy as np\n",
    "import pandas as pd\n",
    "import torch"
   ]
  },
  {
   "cell_type": "markdown",
   "metadata": {},
   "source": [
    "## Data"
   ]
  },
  {
   "cell_type": "code",
   "execution_count": 2,
   "metadata": {},
   "outputs": [
    {
     "name": "stdout",
     "output_type": "stream",
     "text": [
      "node_idx                                                         453\n",
      "new_idx                                                          102\n",
      "cf_adj             [[0.0, 0.0, 0.0, 1.0, 1.0, 1.0, 1.0, 1.0, 1.0,...\n",
      "sub_adj            [[0.0, 0.0, 0.0, 1.0, 1.0, 1.0, 1.0, 1.0, 1.0,...\n",
      "cf                                  [[38, 132, del], [453, 39, add]]\n",
      "num_nodes                                                        108\n",
      "node_dict          {0: 0, 1: 1, 4: 2, 5: 3, 6: 4, 7: 5, 8: 6, 9: ...\n",
      "y_pred                                                             2\n",
      "y_pred_cf                                                          3\n",
      "label                                                            [2]\n",
      "loss_total                                                       1.0\n",
      "loss_pred                                                 -2.7047536\n",
      "loss_graph_dist                                                  2.0\n",
      "found                                                          found\n",
      "Name: 0, dtype: object\n"
     ]
    }
   ],
   "source": [
    "with open(\"data/df_train_syn1.pkl\", \"rb\") as file:\n",
    "    data = pickle.load(file)\n",
    "print(data.iloc[0])"
   ]
  },
  {
   "cell_type": "markdown",
   "metadata": {},
   "source": [
    "## New dataset"
   ]
  },
  {
   "cell_type": "code",
   "execution_count": 14,
   "metadata": {},
   "outputs": [],
   "source": [
    "new_dataset = dict()\n",
    "for index, row in data.iterrows():\n",
    "    node_id = row['node_idx']\n",
    "    target = row['new_idx']\n",
    "    adj = row['sub_adj']\n",
    "    cfs = row['cf']\n",
    "    # The source & destination nodes need to be mapped to the subadjacency. \n",
    "    node_dict = row['node_dict']\n",
    "    mapped_cfs = list()\n",
    "    for cf in cfs:\n",
    "        src, dest, action = cf\n",
    "        mapped_cf = [node_dict[src], node_dict[dest], action]\n",
    "        mapped_cfs.append(mapped_cf)\n",
    "    new_dataset[node_id] = {'target': target, 'adj': adj, 'cfs': mapped_cfs}"
   ]
  },
  {
   "cell_type": "code",
   "execution_count": 22,
   "metadata": {},
   "outputs": [
    {
     "data": {
      "text/plain": [
       "{'target': 102,\n",
       " 'adj': array([[0., 0., 0., ..., 0., 0., 0.],\n",
       "        [0., 0., 0., ..., 0., 0., 0.],\n",
       "        [0., 0., 0., ..., 0., 0., 0.],\n",
       "        ...,\n",
       "        [0., 0., 0., ..., 0., 1., 1.],\n",
       "        [0., 0., 0., ..., 1., 0., 1.],\n",
       "        [0., 0., 0., ..., 1., 1., 0.]], dtype=float32),\n",
       " 'cfs': [[27, 62, 'del'], [102, 28, 'add']]}"
      ]
     },
     "execution_count": 22,
     "metadata": {},
     "output_type": "execute_result"
    }
   ],
   "source": [
    "new_dataset[453]"
   ]
  },
  {
   "cell_type": "code",
   "execution_count": 23,
   "metadata": {},
   "outputs": [],
   "source": [
    "with open(\"../data/syn1_dataset.pkl\", \"wb\") as file:\n",
    "    pickle.dump(new_dataset, file)"
   ]
  },
  {
   "cell_type": "markdown",
   "metadata": {},
   "source": [
    "## Rough"
   ]
  },
  {
   "cell_type": "code",
   "execution_count": null,
   "metadata": {},
   "outputs": [],
   "source": []
  }
 ],
 "metadata": {
  "kernelspec": {
   "display_name": "Python 3.9.12 ('gnn')",
   "language": "python",
   "name": "python3"
  },
  "language_info": {
   "codemirror_mode": {
    "name": "ipython",
    "version": 3
   },
   "file_extension": ".py",
   "mimetype": "text/x-python",
   "name": "python",
   "nbconvert_exporter": "python",
   "pygments_lexer": "ipython3",
   "version": "3.9.12"
  },
  "orig_nbformat": 4,
  "vscode": {
   "interpreter": {
    "hash": "68c408a09fc6b9af4d557fa69fd931fc5c0935ab87f3b3ea2b2f71f9a639c9ba"
   }
  }
 },
 "nbformat": 4,
 "nbformat_minor": 2
}
