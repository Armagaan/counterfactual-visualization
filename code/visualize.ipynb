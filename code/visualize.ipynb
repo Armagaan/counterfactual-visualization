{
 "cells": [
  {
   "cell_type": "markdown",
   "metadata": {},
   "source": [
    "# Visualize Counterfactual Graphs"
   ]
  },
  {
   "cell_type": "code",
   "execution_count": 10,
   "metadata": {},
   "outputs": [],
   "source": [
    "import os\n",
    "import pickle\n",
    "from pprint import pprint\n",
    "import shutil\n",
    "\n",
    "import matplotlib.pyplot as plt\n",
    "import networkx as nx\n",
    "import numpy as np\n",
    "import pandas as pd\n",
    "import seaborn as sns\n",
    "import torch"
   ]
  },
  {
   "cell_type": "code",
   "execution_count": 2,
   "metadata": {},
   "outputs": [],
   "source": [
    "INPUT = \"../data/syn1_dataset.pkl\"\n",
    "OUTPUT = \"../output/syn1\"\n",
    "os.makedirs(OUTPUT, exist_ok=True)"
   ]
  },
  {
   "cell_type": "markdown",
   "metadata": {},
   "source": [
    "## Data"
   ]
  },
  {
   "cell_type": "code",
   "execution_count": 3,
   "metadata": {},
   "outputs": [],
   "source": [
    "with open(INPUT, \"rb\") as file:\n",
    "    data = pickle.load(file)"
   ]
  },
  {
   "cell_type": "code",
   "execution_count": 4,
   "metadata": {},
   "outputs": [
    {
     "name": "stdout",
     "output_type": "stream",
     "text": [
      "<class 'dict'>\n",
      "\n",
      "{'adj': array([[0., 0., 0., ..., 0., 0., 0.],\n",
      "       [0., 0., 0., ..., 0., 0., 0.],\n",
      "       [0., 0., 0., ..., 0., 0., 0.],\n",
      "       ...,\n",
      "       [0., 0., 0., ..., 0., 1., 1.],\n",
      "       [0., 0., 0., ..., 1., 0., 1.],\n",
      "       [0., 0., 0., ..., 1., 1., 0.]], dtype=float32),\n",
      " 'cfs': [[27, 62, 'del'], [102, 28, 'add']],\n",
      " 'target': 102}\n"
     ]
    }
   ],
   "source": [
    "print(type(data))\n",
    "print()\n",
    "first_key = list(data.keys())[0]\n",
    "pprint(data[first_key])"
   ]
  },
  {
   "cell_type": "code",
   "execution_count": 30,
   "metadata": {},
   "outputs": [],
   "source": [
    "# Reorder the cfs such that the source node label is always smaller than the destination.\n",
    "# Makes plotting easier later on.\n",
    "for node_id in data:\n",
    "    for i, cf in enumerate(data[node_id]['cfs']):\n",
    "        src, dest, action = cf[0], cf[1], cf[2]\n",
    "        if src > dest:\n",
    "            src, dest = dest, src\n",
    "            data[node_id]['cfs'][i] = [src, dest, action]"
   ]
  },
  {
   "cell_type": "code",
   "execution_count": 31,
   "metadata": {},
   "outputs": [
    {
     "name": "stdout",
     "output_type": "stream",
     "text": [
      "{'adj': array([[0., 0., 0., ..., 0., 0., 0.],\n",
      "       [0., 0., 0., ..., 0., 0., 0.],\n",
      "       [0., 0., 0., ..., 0., 0., 0.],\n",
      "       ...,\n",
      "       [0., 0., 0., ..., 0., 1., 1.],\n",
      "       [0., 0., 0., ..., 1., 0., 1.],\n",
      "       [0., 0., 0., ..., 1., 1., 0.]], dtype=float32),\n",
      " 'cfs': [[27, 62, 'del'], [28, 102, 'add']],\n",
      " 'target': 102}\n"
     ]
    }
   ],
   "source": [
    "pprint(data[first_key])"
   ]
  },
  {
   "cell_type": "markdown",
   "metadata": {},
   "source": [
    "## Visualize"
   ]
  },
  {
   "cell_type": "markdown",
   "metadata": {},
   "source": [
    "### Graph"
   ]
  },
  {
   "cell_type": "code",
   "execution_count": null,
   "metadata": {},
   "outputs": [],
   "source": [
    "THRESHOLD = 15\n",
    "OUT_PATH = OUTPUT + \"/graph/\"\n",
    "if os.path.exists(OUT_PATH):\n",
    "    shutil.rmtree(OUT_PATH)\n",
    "os.makedirs(OUT_PATH)"
   ]
  },
  {
   "cell_type": "code",
   "execution_count": 22,
   "metadata": {},
   "outputs": [
    {
     "data": {
      "text/plain": [
       "<Figure size 432x288 with 0 Axes>"
      ]
     },
     "metadata": {},
     "output_type": "display_data"
    }
   ],
   "source": [
    "# Iterate over the graphs.\n",
    "for node_id in data:\n",
    "    # Discard large graphs.\n",
    "    if data[node_id]['adj'].sum() // 2 > THRESHOLD:\n",
    "        continue\n",
    "    graph = nx.from_numpy_array(data[node_id]['adj'])\n",
    "    pos = nx.spring_layout(graph)\n",
    "    # Assign colors to the nodes.\n",
    "    color_map = list()\n",
    "    for node in graph:\n",
    "        if node == data[node_id]['target']:\n",
    "            color_map.append(\"#F28C28\")\n",
    "        else:\n",
    "            color_map.append(\"#00308F\")\n",
    "    nx.draw(G=graph, pos=pos, node_color=color_map, width=1.5)\n",
    "    # Save the plot.\n",
    "    plt.savefig(OUT_PATH + f\"{node_id}\" + \".png\", format=\"png\")\n",
    "    # Clear the plot for next iteration.\n",
    "    # Otherwise it will draw the new graph on top of it.\n",
    "    plt.clf()"
   ]
  },
  {
   "cell_type": "markdown",
   "metadata": {},
   "source": [
    "### Colored Map"
   ]
  },
  {
   "cell_type": "code",
   "execution_count": 32,
   "metadata": {},
   "outputs": [],
   "source": [
    "THRESHOLD = 15\n",
    "OUT_PATH = OUTPUT + \"/colored_graphs/\"\n",
    "if os.path.exists(OUT_PATH):\n",
    "    shutil.rmtree(OUT_PATH)\n",
    "os.makedirs(OUT_PATH)"
   ]
  },
  {
   "cell_type": "code",
   "execution_count": null,
   "metadata": {},
   "outputs": [],
   "source": [
    "\n",
    "#todo: Edge colors are not visible.\n",
    "#todo: Graph and Colored graph do not have identical plots."
   ]
  },
  {
   "cell_type": "code",
   "execution_count": 34,
   "metadata": {},
   "outputs": [
    {
     "data": {
      "text/plain": [
       "<Figure size 432x288 with 0 Axes>"
      ]
     },
     "metadata": {},
     "output_type": "display_data"
    }
   ],
   "source": [
    "# Iterate over the graphs.\n",
    "for node_id in data:\n",
    "    # Discard large graphs.\n",
    "    if data[node_id]['adj'].sum() // 2 > THRESHOLD:\n",
    "        continue\n",
    "    # Create the graph\n",
    "    graph = nx.from_numpy_array(data[node_id]['adj'])\n",
    "    pos = nx.spring_layout(graph)\n",
    "    # Assign colors to the nodes.\n",
    "    color_map = list()\n",
    "    for node in graph:\n",
    "        if node == data[node_id]['target']:\n",
    "            color_map.append(\"#F28C28\")\n",
    "        else:\n",
    "            color_map.append(\"#00308F\")\n",
    "    # Assign colors to the edges\n",
    "    cfs = data[node_id]['cfs']\n",
    "    cf_edges = [(cf[0], cf[1]) for cf in cfs]\n",
    "    cf_actions = [cf[2] for cf in cfs]\n",
    "    edge_color_map = list()\n",
    "    for edge in graph.edges:\n",
    "        if edge not in cf_edges:\n",
    "            edge_color_map.append(\"black\")\n",
    "            continue\n",
    "        index = cf_edges.index(edge)\n",
    "        action = cf_actions[index]\n",
    "        if action == 'del':\n",
    "            edge_color_map.append(\"green\")\n",
    "        else:\n",
    "            edge_color_map.append(\"red\")\n",
    "    # Draw\n",
    "    nx.draw(\n",
    "        G=graph,\n",
    "        pos=pos,\n",
    "        node_color=color_map,\n",
    "        width=1.5,\n",
    "        edge_color=edge_color_map,\n",
    "    )\n",
    "    # # Save the plot.\n",
    "    plt.savefig(OUT_PATH + f\"{node_id}\" + \".png\", format=\"png\")\n",
    "    # # Clear the plot for next iteration.\n",
    "    # # Otherwise it will draw the new graph on top of it.\n",
    "    plt.clf()"
   ]
  },
  {
   "cell_type": "markdown",
   "metadata": {},
   "source": [
    "### Perturbed Graph"
   ]
  },
  {
   "cell_type": "code",
   "execution_count": null,
   "metadata": {},
   "outputs": [],
   "source": [
    "# Make another copy of the graph: perturbed_graph.\n",
    "# Make the perturbations.\n",
    "# Plot the graph."
   ]
  },
  {
   "cell_type": "markdown",
   "metadata": {},
   "source": [
    "## Rough"
   ]
  },
  {
   "cell_type": "code",
   "execution_count": 26,
   "metadata": {},
   "outputs": [
    {
     "name": "stdout",
     "output_type": "stream",
     "text": [
      "#Graphs: 209\n",
      "#Graphs with less than 15 nodes: 14\n"
     ]
    }
   ],
   "source": [
    "THRESHOLD = 15\n",
    "count = 0\n",
    "for node_id in data:\n",
    "    if data[node_id]['adj'].sum() // 2 <= THRESHOLD:\n",
    "        count += 1\n",
    "print(f\"#Graphs: {len(data)}\")\n",
    "print(f\"#Graphs with less than {THRESHOLD} nodes: {count}\")"
   ]
  },
  {
   "cell_type": "code",
   "execution_count": null,
   "metadata": {},
   "outputs": [],
   "source": []
  }
 ],
 "metadata": {
  "kernelspec": {
   "display_name": "Python 3.9.12 ('gnn')",
   "language": "python",
   "name": "python3"
  },
  "language_info": {
   "codemirror_mode": {
    "name": "ipython",
    "version": 3
   },
   "file_extension": ".py",
   "mimetype": "text/x-python",
   "name": "python",
   "nbconvert_exporter": "python",
   "pygments_lexer": "ipython3",
   "version": "3.9.12"
  },
  "orig_nbformat": 4,
  "vscode": {
   "interpreter": {
    "hash": "68c408a09fc6b9af4d557fa69fd931fc5c0935ab87f3b3ea2b2f71f9a639c9ba"
   }
  }
 },
 "nbformat": 4,
 "nbformat_minor": 2
}
